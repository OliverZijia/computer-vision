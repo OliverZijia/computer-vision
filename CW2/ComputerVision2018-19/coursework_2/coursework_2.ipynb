{
 "cells": [
  {
   "cell_type": "markdown",
   "metadata": {},
   "source": [
    "# Coursework 2: Neural Networks \n",
    "\n",
    "This coursework covers the topics covered in class regarding neural networks for image classification.\n",
    "\n",
    "This coursework includes both coding questions as well as written ones. Please upload the notebook, which contains your code, results and answers as a pdf file onto Cate.\n",
    "\n",
    "Dependencies: If you work on a college computer in the Computing Lab, where Ubuntu 18.04 is installed by default, you can use the following virtual environment for your work, where relevant Python packages are already installed.\n",
    "\n",
    "`source /vol/bitbucket/wbai/virt/computer_vision_ubuntu18.04/bin/activate`\n",
    "\n",
    "Alternatively, you can use pip, pip3 or anaconda etc to install Python packages.\n",
    "\n",
    "**Note 1:** please read the both the text and code comment in this notebook to get an idea what you are supposed to implement.\n",
    "\n",
    "**Note 2:** If you are using the virtual environment in the Computing Lab, please run the following command in the command line before opening jupyter-notebook and importing tensorflow. This will tell tensorflow where the Nvidia CUDA libariries are.\n",
    "\n",
    "`export LD_LIBRARY_PATH=/vol/cuda/9.0.176/lib64/:\"${LD_LIBRARY_PATH}}\"` "
   ]
  },
  {
   "cell_type": "code",
   "execution_count": 1,
   "metadata": {},
   "outputs": [
    {
     "name": "stderr",
     "output_type": "stream",
     "text": [
      "Using TensorFlow backend.\n"
     ]
    }
   ],
   "source": [
    "# Import libraries\n",
    "import numpy as np \n",
    "import matplotlib.pyplot as plt\n",
    "%matplotlib inline\n",
    "import tensorflow as tf \n",
    "import keras\n",
    "from keras.models import Sequential\n",
    "from keras.layers import Dense, Dropout"
   ]
  },
  {
   "cell_type": "markdown",
   "metadata": {},
   "source": [
    "## Question 1 (20 points)\n",
    "\n",
    "Throughout this coursework you will be working with the Fashion-MNIST dataset. If you are interested, you may find relevant information regarding the dataset in this paper.\n",
    "\n",
    "[1] Fashion-MNIST: A novel image dataset for benchmarking machine learning algorithms. Han Xiao, Kashif Rasul, Roland Vollgraf. [arXiv:1708.07747](https://arxiv.org/abs/1708.07747)\n",
    "\n",
    "Be sure that you have the following files in your working directory: data.tar.gz and reader.py. Loading the data can be done as follows:\n",
    "\n",
    "`from reader import get_images\n",
    "(x_train, y_train), (x_test, y_test) = get_images()`\n",
    "\n",
    "The dataset is already split into a set of 60,000 training images and a set of 10,000 test images. The images are of size 28x28 pixels and stored as 784-D vector. So if you would like to visualise the images, you need to reshape the array.\n",
    "\n",
    "There are in total 10 label classes, which are:\n",
    "* 0: T-shirt/top\n",
    "* 1: Trousers\n",
    "* 2: Pullover\n",
    "* 3: Dress\n",
    "* 4: Coat\n",
    "* 5: Sandal\n",
    "* 6: Shirt\n",
    "* 7: Sneaker\n",
    "* 8: Bag\n",
    "* 9: Ankle boot"
   ]
  },
  {
   "cell_type": "markdown",
   "metadata": {},
   "source": [
    "### 1.1 Load data (6 points)\n",
    "Load the dataset and print the dimensions of the training set and the test set."
   ]
  },
  {
   "cell_type": "code",
   "execution_count": 12,
   "metadata": {},
   "outputs": [
    {
     "name": "stdout",
     "output_type": "stream",
     "text": [
      "dimension of x_train_set:(60000, 784)\n",
      "dimension of y_train_set:(60000,)\n",
      "\n",
      "dimension of x_test_set:(10000, 784)\n",
      "dimension of y_test_set:(10000,)\n"
     ]
    }
   ],
   "source": [
    "from reader import get_images\n",
    "(x_train, y_train), (x_test, y_test) = get_images()\n",
    "print('dimension of x_train_set:' + str(x_train.shape) + '\\ndimension of y_train_set:' + str(y_train.shape))\n",
    "print('\\ndimension of x_test_set:' + str(x_test.shape) + '\\ndimension of y_test_set:' + str(y_test.shape))"
   ]
  },
  {
   "cell_type": "markdown",
   "metadata": {},
   "source": [
    "### 1.2 Visualize data (6 points)\n",
    "Visualise 3 training images (T-shirt, trousers and pullover) and 3 test images (dress, coat and sandal)."
   ]
  },
  {
   "cell_type": "code",
   "execution_count": 6,
   "metadata": {},
   "outputs": [
    {
     "data": {
      "image/png": "[encoded data removed]",
      "text/plain": [
       "<Figure size 432x288 with 1 Axes>"
      ]
     },
     "metadata": {
      "needs_background": "light"
     },
     "output_type": "display_data"
    }
   ],
   "source": [
    "imgplot_train1 = plt.imshow(np.reshape(x_train[1],(28,28)))"
   ]
  },
  {
   "cell_type": "code",
   "execution_count": 7,
   "metadata": {},
   "outputs": [
    {
     "data": {
      "image/png": "[encoded data removed]",
      "text/plain": [
       "<Figure size 432x288 with 1 Axes>"
      ]
     },
     "metadata": {
      "needs_background": "light"
     },
     "output_type": "display_data"
    }
   ],
   "source": [
    "imgplot_train2 = plt.imshow(np.reshape(x_train[16],(28,28)))"
   ]
  },
  {
   "cell_type": "code",
   "execution_count": 8,
   "metadata": {},
   "outputs": [
    {
     "data": {
      "image/png": "[encoded data removed]",
      "text/plain": [
       "<Figure size 432x288 with 1 Axes>"
      ]
     },
     "metadata": {
      "needs_background": "light"
     },
     "output_type": "display_data"
    }
   ],
   "source": [
    "imgplot_test1 = plt.imshow(np.reshape(x_test[13],(28,28)))"
   ]
  },
  {
   "cell_type": "code",
   "execution_count": 9,
   "metadata": {},
   "outputs": [
    {
     "data": {
      "image/png": "[encoded data removed]",
      "text/plain": [
       "<Figure size 432x288 with 1 Axes>"
      ]
     },
     "metadata": {
      "needs_background": "light"
     },
     "output_type": "display_data"
    }
   ],
   "source": [
    "imgplot_test2 = plt.imshow(np.reshape(x_test[6],(28,28)))"
   ]
  },
  {
   "cell_type": "code",
   "execution_count": 10,
   "metadata": {},
   "outputs": [
    {
     "data": {
      "image/png": "[encoded data removed]",
      "text/plain": [
       "<Figure size 432x288 with 1 Axes>"
      ]
     },
     "metadata": {
      "needs_background": "light"
     },
     "output_type": "display_data"
    }
   ],
   "source": [
    "imgplot_test3 = plt.imshow(np.reshape(x_test[21],(28,28)))"
   ]
  },
  {
   "cell_type": "markdown",
   "metadata": {},
   "source": [
    "### 1.3 Data balance (4 points)\n",
    "Print out the number of training samples for each class."
   ]
  },
  {
   "cell_type": "code",
   "execution_count": 13,
   "metadata": {},
   "outputs": [
    {
     "data": {
      "text/plain": [
       "{0: 6000,\n",
       " 1: 6000,\n",
       " 2: 6000,\n",
       " 3: 6000,\n",
       " 4: 6000,\n",
       " 5: 6000,\n",
       " 6: 6000,\n",
       " 7: 6000,\n",
       " 8: 6000,\n",
       " 9: 6000}"
      ]
     },
     "execution_count": 13,
     "metadata": {},
     "output_type": "execute_result"
    }
   ],
   "source": [
    "unique, counts = np.unique(y_train, return_counts=True)\n",
    "dict(zip(unique, counts))"
   ]
  },
  {
   "cell_type": "markdown",
   "metadata": {},
   "source": [
    "### 1.4 Discussion (4 points)\n",
    "Is the dataset balanced? What would happen if the dataset is not balanced in the context of image classification? "
   ]
  },
  {
   "cell_type": "code",
   "execution_count": null,
   "metadata": {},
   "outputs": [],
   "source": [
    "# Yes, this dataset is balanced, because the number of each class is same.\n",
    "#\n",
    "# If the dataset is not balanced, and assume that our training set has 1000 samples for dress and only 20 samples for\n",
    "# trousers, then in this case, our algorithm will tends to classify all new examples as dress."
   ]
  },
  {
   "cell_type": "markdown",
   "metadata": {},
   "source": [
    "## Question 2 (40 points)\n",
    "\n",
    "Build a neural network and train it with the Fashion-MNIST dataset. Here, we use the keras library, which is a high-level neural network library built upon tensorflow."
   ]
  },
  {
   "cell_type": "code",
   "execution_count": 16,
   "metadata": {},
   "outputs": [],
   "source": [
    "# Convert the label class into a one-hot representation\n",
    "num_classes = 10\n",
    "y_train = keras.utils.to_categorical(y_train, num_classes)\n",
    "y_test = keras.utils.to_categorical(y_test, num_classes)"
   ]
  },
  {
   "cell_type": "markdown",
   "metadata": {},
   "source": [
    "### 2.1 Build a multi-layer perceptron, also known as multi-layer fully connected network. You need to define the layers, the loss function, the optimiser and evaluation metric. (30 points)"
   ]
  },
  {
   "cell_type": "code",
   "execution_count": 4,
   "metadata": {},
   "outputs": [
    {
     "name": "stdout",
     "output_type": "stream",
     "text": [
      "_________________________________________________________________\n",
      "Layer (type)                 Output Shape              Param #   \n",
      "=================================================================\n",
      "dense_1 (Dense)              (None, 784)               615440    \n",
      "_________________________________________________________________\n",
      "dropout_1 (Dropout)          (None, 784)               0         \n",
      "_________________________________________________________________\n",
      "dense_2 (Dense)              (None, 500)               392500    \n",
      "_________________________________________________________________\n",
      "dropout_2 (Dropout)          (None, 500)               0         \n",
      "_________________________________________________________________\n",
      "dense_3 (Dense)              (None, 200)               100200    \n",
      "_________________________________________________________________\n",
      "dropout_3 (Dropout)          (None, 200)               0         \n",
      "_________________________________________________________________\n",
      "dense_4 (Dense)              (None, 10)                2010      \n",
      "=================================================================\n",
      "Total params: 1,110,150\n",
      "Trainable params: 1,110,150\n",
      "Non-trainable params: 0\n",
      "_________________________________________________________________\n",
      "None\n"
     ]
    }
   ],
   "source": [
    "from keras.optimizers import SGD\n",
    "opt = SGD(lr=0.01)\n",
    "model = keras.models.Sequential()\n",
    "M = 128 # hidden units\n",
    "K = 10 # outputs\n",
    "\n",
    "model.add(Dense(784, input_dim = 784,kernel_initializer= \"uniform\", \n",
    "  bias_initializer= \"zeros\",activation= \"relu\"))\n",
    "model.add(Dropout(0.3))\n",
    "\n",
    "model.add(Dense(500,kernel_initializer= \"uniform\", bias_initializer= \n",
    "  \"zeros\",activation= \"relu\"))\n",
    "model.add(Dropout(0.3))\n",
    "\n",
    "model.add(Dense(200,kernel_initializer= \"uniform\", bias_initializer= \n",
    "  \"zeros\",activation= \"relu\"))\n",
    "model.add(Dropout(0.3))\n",
    "\n",
    "model.add(Dense(K,kernel_initializer= \"uniform\", bias_initializer= \n",
    "   \"zeros\",activation= \"softmax\"))\n",
    "\n",
    "model.compile(loss='categorical_crossentropy', optimizer=opt, metrics=['accuracy'])\n",
    "print(model.summary())"
   ]
  },
  {
   "cell_type": "markdown",
   "metadata": {},
   "source": [
    "### 2.2 Define the optimisation parameters including the batch size and the number of epochs and then run the optimiser. (10 points)\n",
    "\n",
    "We have tested that for an appropriate network architecture, on a personal laptop and with only CPU, it takes about a few seconds per epoch to train the network. For 100 epochs, it takes about a coffee break's time to finish the training. If you run it on a powerful GPU, it would be even much faster."
   ]
  },
  {
   "cell_type": "code",
   "execution_count": 5,
   "metadata": {},
   "outputs": [
    {
     "name": "stdout",
     "output_type": "stream",
     "text": [
      "Epoch 1/100\n",
      "60000/60000 [==============================] - 9s 153us/step - loss: 2.0073 - acc: 0.6497\n",
      "Epoch 2/100\n",
      "60000/60000 [==============================] - 5s 89us/step - loss: 0.5815 - acc: 0.7884\n",
      "Epoch 3/100\n",
      "60000/60000 [==============================] - 6s 92us/step - loss: 0.5099 - acc: 0.8168\n",
      "Epoch 4/100\n",
      "60000/60000 [==============================] - 5s 91us/step - loss: 0.4773 - acc: 0.8274\n",
      "Epoch 5/100\n",
      "60000/60000 [==============================] - 5s 90us/step - loss: 0.4491 - acc: 0.8373\n",
      "Epoch 6/100\n",
      "60000/60000 [==============================] - 5s 90us/step - loss: 0.4310 - acc: 0.8443\n",
      "Epoch 7/100\n",
      "60000/60000 [==============================] - 5s 91us/step - loss: 0.4143 - acc: 0.8496\n",
      "Epoch 8/100\n",
      "60000/60000 [==============================] - 6s 94us/step - loss: 0.4002 - acc: 0.8552\n",
      "Epoch 9/100\n",
      "60000/60000 [==============================] - 5s 91us/step - loss: 0.3937 - acc: 0.8553\n",
      "Epoch 10/100\n",
      "60000/60000 [==============================] - 5s 90us/step - loss: 0.3814 - acc: 0.8600\n",
      "Epoch 11/100\n",
      "60000/60000 [==============================] - 5s 90us/step - loss: 0.3717 - acc: 0.8635\n",
      "Epoch 12/100\n",
      "60000/60000 [==============================] - 6s 92us/step - loss: 0.3668 - acc: 0.8660\n",
      "Epoch 13/100\n",
      "60000/60000 [==============================] - 5s 91us/step - loss: 0.3560 - acc: 0.8697\n",
      "Epoch 14/100\n",
      "60000/60000 [==============================] - 5s 91us/step - loss: 0.3532 - acc: 0.8705\n",
      "Epoch 15/100\n",
      "60000/60000 [==============================] - 5s 89us/step - loss: 0.3458 - acc: 0.8742\n",
      "Epoch 16/100\n",
      "60000/60000 [==============================] - 5s 91us/step - loss: 0.3417 - acc: 0.8757\n",
      "Epoch 17/100\n",
      "60000/60000 [==============================] - 6s 93us/step - loss: 0.3360 - acc: 0.8771\n",
      "Epoch 18/100\n",
      "60000/60000 [==============================] - 6s 92us/step - loss: 0.3295 - acc: 0.8796\n",
      "Epoch 19/100\n",
      "60000/60000 [==============================] - 5s 86us/step - loss: 0.3229 - acc: 0.8808\n",
      "Epoch 20/100\n",
      "60000/60000 [==============================] - 5s 91us/step - loss: 0.3210 - acc: 0.8811\n",
      "Epoch 21/100\n",
      "60000/60000 [==============================] - 6s 94us/step - loss: 0.3128 - acc: 0.8834\n",
      "Epoch 22/100\n",
      "60000/60000 [==============================] - 5s 90us/step - loss: 0.3114 - acc: 0.8849\n",
      "Epoch 23/100\n",
      "60000/60000 [==============================] - 5s 90us/step - loss: 0.3047 - acc: 0.8871\n",
      "Epoch 24/100\n",
      "60000/60000 [==============================] - 5s 91us/step - loss: 0.3009 - acc: 0.8886\n",
      "Epoch 25/100\n",
      "60000/60000 [==============================] - 5s 91us/step - loss: 0.3001 - acc: 0.8885\n",
      "Epoch 26/100\n",
      "60000/60000 [==============================] - 5s 88us/step - loss: 0.2957 - acc: 0.8907\n",
      "Epoch 27/100\n",
      "60000/60000 [==============================] - 6s 93us/step - loss: 0.2917 - acc: 0.8912\n",
      "Epoch 28/100\n",
      "60000/60000 [==============================] - 6s 94us/step - loss: 0.2872 - acc: 0.8934\n",
      "Epoch 29/100\n",
      "60000/60000 [==============================] - 6s 92us/step - loss: 0.2863 - acc: 0.8939\n",
      "Epoch 30/100\n",
      "60000/60000 [==============================] - 5s 91us/step - loss: 0.2798 - acc: 0.8950\n",
      "Epoch 31/100\n",
      "60000/60000 [==============================] - 6s 93us/step - loss: 0.2787 - acc: 0.8963\n",
      "Epoch 32/100\n",
      "60000/60000 [==============================] - 6s 95us/step - loss: 0.2741 - acc: 0.8968\n",
      "Epoch 33/100\n",
      "60000/60000 [==============================] - 6s 96us/step - loss: 0.2710 - acc: 0.8993\n",
      "Epoch 34/100\n",
      "60000/60000 [==============================] - 6s 100us/step - loss: 0.2707 - acc: 0.8994\n",
      "Epoch 35/100\n",
      "60000/60000 [==============================] - 6s 95us/step - loss: 0.2663 - acc: 0.8996\n",
      "Epoch 36/100\n",
      "60000/60000 [==============================] - 6s 98us/step - loss: 0.2657 - acc: 0.8992\n",
      "Epoch 37/100\n",
      "60000/60000 [==============================] - 6s 99us/step - loss: 0.2609 - acc: 0.9020\n",
      "Epoch 38/100\n",
      "60000/60000 [==============================] - 6s 92us/step - loss: 0.2602 - acc: 0.9016\n",
      "Epoch 39/100\n",
      "60000/60000 [==============================] - 6s 93us/step - loss: 0.2565 - acc: 0.9033\n",
      "Epoch 40/100\n",
      "60000/60000 [==============================] - 6s 92us/step - loss: 0.2541 - acc: 0.9043\n",
      "Epoch 41/100\n",
      "60000/60000 [==============================] - 5s 88us/step - loss: 0.2525 - acc: 0.9046\n",
      "Epoch 42/100\n",
      "60000/60000 [==============================] - 5s 89us/step - loss: 0.2501 - acc: 0.9056\n",
      "Epoch 43/100\n",
      "60000/60000 [==============================] - 5s 90us/step - loss: 0.2483 - acc: 0.9060\n",
      "Epoch 44/100\n",
      "60000/60000 [==============================] - 5s 91us/step - loss: 0.2443 - acc: 0.9079\n",
      "Epoch 45/100\n",
      "60000/60000 [==============================] - 5s 91us/step - loss: 0.2414 - acc: 0.9080\n",
      "Epoch 46/100\n",
      "60000/60000 [==============================] - 5s 87us/step - loss: 0.2384 - acc: 0.9093\n",
      "Epoch 47/100\n",
      "60000/60000 [==============================] - 5s 87us/step - loss: 0.2382 - acc: 0.9090\n",
      "Epoch 48/100\n",
      "60000/60000 [==============================] - 5s 87us/step - loss: 0.2348 - acc: 0.9114\n",
      "Epoch 49/100\n",
      "60000/60000 [==============================] - 5s 87us/step - loss: 0.2331 - acc: 0.9116\n",
      "Epoch 50/100\n",
      "60000/60000 [==============================] - 5s 88us/step - loss: 0.2352 - acc: 0.9100\n",
      "Epoch 51/100\n",
      "60000/60000 [==============================] - 5s 87us/step - loss: 0.2297 - acc: 0.9115\n",
      "Epoch 52/100\n",
      "60000/60000 [==============================] - 5s 87us/step - loss: 0.2272 - acc: 0.9131\n",
      "Epoch 53/100\n",
      "60000/60000 [==============================] - 6s 92us/step - loss: 0.2241 - acc: 0.9149\n",
      "Epoch 54/100\n",
      "60000/60000 [==============================] - 5s 90us/step - loss: 0.2231 - acc: 0.9149\n",
      "Epoch 55/100\n",
      "60000/60000 [==============================] - 6s 92us/step - loss: 0.2228 - acc: 0.9150\n",
      "Epoch 56/100\n",
      "60000/60000 [==============================] - 5s 90us/step - loss: 0.2211 - acc: 0.9158\n",
      "Epoch 57/100\n",
      "60000/60000 [==============================] - 5s 90us/step - loss: 0.2174 - acc: 0.9164\n",
      "Epoch 58/100\n",
      "60000/60000 [==============================] - 5s 90us/step - loss: 0.2184 - acc: 0.9178\n",
      "Epoch 59/100\n",
      "60000/60000 [==============================] - 5s 90us/step - loss: 0.2153 - acc: 0.9178\n",
      "Epoch 60/100\n",
      "60000/60000 [==============================] - 5s 91us/step - loss: 0.2142 - acc: 0.9185\n",
      "Epoch 61/100\n",
      "60000/60000 [==============================] - 5s 91us/step - loss: 0.2130 - acc: 0.9199\n",
      "Epoch 62/100\n",
      "60000/60000 [==============================] - 6s 92us/step - loss: 0.2131 - acc: 0.9189\n",
      "Epoch 63/100\n",
      "60000/60000 [==============================] - 5s 90us/step - loss: 0.2077 - acc: 0.9204\n",
      "Epoch 64/100\n",
      "60000/60000 [==============================] - 5s 91us/step - loss: 0.2059 - acc: 0.9217\n",
      "Epoch 65/100\n",
      "60000/60000 [==============================] - 5s 90us/step - loss: 0.2062 - acc: 0.9217\n",
      "Epoch 66/100\n",
      "60000/60000 [==============================] - 5s 90us/step - loss: 0.2052 - acc: 0.9213\n",
      "Epoch 67/100\n",
      "60000/60000 [==============================] - 5s 90us/step - loss: 0.2056 - acc: 0.9213\n",
      "Epoch 68/100\n",
      "60000/60000 [==============================] - 5s 89us/step - loss: 0.2031 - acc: 0.9229\n",
      "Epoch 69/100\n",
      "60000/60000 [==============================] - 5s 87us/step - loss: 0.1998 - acc: 0.9235\n",
      "Epoch 70/100\n",
      "60000/60000 [==============================] - 5s 91us/step - loss: 0.2005 - acc: 0.9226\n",
      "Epoch 71/100\n",
      "60000/60000 [==============================] - 5s 90us/step - loss: 0.1963 - acc: 0.9258\n",
      "Epoch 72/100\n",
      "60000/60000 [==============================] - 5s 90us/step - loss: 0.1970 - acc: 0.9239\n",
      "Epoch 73/100\n",
      "60000/60000 [==============================] - 6s 92us/step - loss: 0.1920 - acc: 0.9266\n",
      "Epoch 74/100\n",
      "60000/60000 [==============================] - 5s 88us/step - loss: 0.1941 - acc: 0.9249\n",
      "Epoch 75/100\n",
      "60000/60000 [==============================] - 5s 91us/step - loss: 0.1916 - acc: 0.9262\n",
      "Epoch 76/100\n",
      "60000/60000 [==============================] - 5s 91us/step - loss: 0.1909 - acc: 0.9263\n",
      "Epoch 77/100\n",
      "60000/60000 [==============================] - 5s 91us/step - loss: 0.1912 - acc: 0.9268\n",
      "Epoch 78/100\n",
      "60000/60000 [==============================] - 6s 92us/step - loss: 0.1868 - acc: 0.9279\n",
      "Epoch 79/100\n",
      "60000/60000 [==============================] - 5s 91us/step - loss: 0.1869 - acc: 0.9274\n",
      "Epoch 80/100\n",
      "60000/60000 [==============================] - 6s 92us/step - loss: 0.1846 - acc: 0.9285\n",
      "Epoch 81/100\n"
     ]
    },
    {
     "name": "stdout",
     "output_type": "stream",
     "text": [
      "60000/60000 [==============================] - 6s 93us/step - loss: 0.1837 - acc: 0.9300\n",
      "Epoch 82/100\n",
      "60000/60000 [==============================] - 5s 90us/step - loss: 0.1835 - acc: 0.9292\n",
      "Epoch 83/100\n",
      "60000/60000 [==============================] - 5s 89us/step - loss: 0.1801 - acc: 0.9312\n",
      "Epoch 84/100\n",
      "60000/60000 [==============================] - 5s 89us/step - loss: 0.1788 - acc: 0.9314\n",
      "Epoch 85/100\n",
      "60000/60000 [==============================] - 5s 91us/step - loss: 0.1798 - acc: 0.9308\n",
      "Epoch 86/100\n",
      "60000/60000 [==============================] - 5s 89us/step - loss: 0.1769 - acc: 0.9325\n",
      "Epoch 87/100\n",
      "60000/60000 [==============================] - 5s 87us/step - loss: 0.1728 - acc: 0.9336\n",
      "Epoch 88/100\n",
      "60000/60000 [==============================] - 5s 89us/step - loss: 0.1757 - acc: 0.9322\n",
      "Epoch 89/100\n",
      "60000/60000 [==============================] - 5s 90us/step - loss: 0.1717 - acc: 0.9329\n",
      "Epoch 90/100\n",
      "60000/60000 [==============================] - 5s 87us/step - loss: 0.1702 - acc: 0.9346\n",
      "Epoch 91/100\n",
      "60000/60000 [==============================] - 5s 88us/step - loss: 0.1724 - acc: 0.9331\n",
      "Epoch 92/100\n",
      "60000/60000 [==============================] - 5s 90us/step - loss: 0.1710 - acc: 0.9339\n",
      "Epoch 93/100\n",
      "60000/60000 [==============================] - 5s 92us/step - loss: 0.1690 - acc: 0.9353\n",
      "Epoch 94/100\n",
      "60000/60000 [==============================] - 6s 98us/step - loss: 0.1701 - acc: 0.9337\n",
      "Epoch 95/100\n",
      "60000/60000 [==============================] - 5s 90us/step - loss: 0.1657 - acc: 0.9376\n",
      "Epoch 96/100\n",
      "60000/60000 [==============================] - 5s 88us/step - loss: 0.1656 - acc: 0.9366\n",
      "Epoch 97/100\n",
      "60000/60000 [==============================] - 5s 90us/step - loss: 0.1650 - acc: 0.9366\n",
      "Epoch 98/100\n",
      "60000/60000 [==============================] - 5s 87us/step - loss: 0.1646 - acc: 0.9369\n",
      "Epoch 99/100\n",
      "60000/60000 [==============================] - 5s 87us/step - loss: 0.1643 - acc: 0.9360\n",
      "Epoch 100/100\n",
      "60000/60000 [==============================] - 5s 87us/step - loss: 0.1610 - acc: 0.9376\n"
     ]
    },
    {
     "data": {
      "text/plain": [
       "<keras.callbacks.History at 0x7f09c81af128>"
      ]
     },
     "execution_count": 5,
     "metadata": {},
     "output_type": "execute_result"
    }
   ],
   "source": [
    "batch_size = 200\n",
    "epochs = 100\n",
    "model.fit(x_train, y_train, batch_size, epochs )"
   ]
  },
  {
   "cell_type": "markdown",
   "metadata": {},
   "source": [
    "## Question 3 (20 points) \n",
    "\n",
    "Evaluate the performance of your network with the test data. \n",
    "Visualize the performance using appropriate metrics and graphs (eg. confusion matrix). \n",
    "Comment on your per class performance and how it could be better."
   ]
  },
  {
   "cell_type": "code",
   "execution_count": 14,
   "metadata": {},
   "outputs": [],
   "source": [
    "# This function is provided for you to display the confusion matrix.\n",
    "# For more information about the confusion matrix, you can read at\n",
    "# https://en.wikipedia.org/wiki/Confusion_matrix\n",
    "def plot_confusion_matrix(cm, classes, normalize=False, title='Confusion matrix', cmap=plt.cm.Blues):\n",
    "    \"\"\"\n",
    "        This function prints and plots the confusion matrix.\n",
    "        \n",
    "        cm: confusion matrix, default to be np.int32 data type\n",
    "        classes: a list of the class labels or class names\n",
    "        normalize: normalize the matrix so that each row amounts to one\n",
    "        cmap: color map\n",
    "    \"\"\"\n",
    "    if normalize:\n",
    "        cm = cm.astype('float') / cm.sum(axis=1)[:, np.newaxis]\n",
    "        print(\"Normalized confusion matrix\")\n",
    "    else:\n",
    "        print('Confusion matrix, without normalization')\n",
    "    print(cm)\n",
    "\n",
    "    plt.imshow(cm, interpolation='nearest', cmap=cmap)\n",
    "    plt.title(title)\n",
    "    plt.colorbar()\n",
    "    tick_marks = np.arange(len(classes))\n",
    "    plt.xticks(tick_marks, classes, rotation=45)\n",
    "    plt.yticks(tick_marks, classes)\n",
    "\n",
    "    fmt = '.2f' if normalize else 'd'\n",
    "    thresh = cm.max() / 2.\n",
    "    for i, j in itertools.product(range(cm.shape[0]), range(cm.shape[1])):\n",
    "        plt.text(j, i, format(cm[i, j], fmt),\n",
    "                 horizontalalignment=\"center\",\n",
    "                 color=\"white\" if cm[i, j] > thresh else \"black\")\n",
    "    plt.ylabel('True label')\n",
    "    plt.xlabel('Predicted label')\n",
    "    plt.tight_layout()"
   ]
  },
  {
   "cell_type": "markdown",
   "metadata": {},
   "source": [
    "### 3.1 Evaluate the classification accuracy on the test set (10 points)"
   ]
  },
  {
   "cell_type": "code",
   "execution_count": 18,
   "metadata": {},
   "outputs": [
    {
     "name": "stdout",
     "output_type": "stream",
     "text": [
      "10000/10000 [==============================] - 0s 47us/step\n",
      "Test loss: 0.32695946246385577\n",
      "Test accuracy: 0.8948\n"
     ]
    }
   ],
   "source": [
    "scores = model.evaluate(x_test, y_test)\n",
    "print('Test loss:', scores[0])\n",
    "print('Test accuracy:', scores[1])"
   ]
  },
  {
   "cell_type": "markdown",
   "metadata": {},
   "source": [
    "### 3.2 Calculate and plot the confusion matrix (10 points)"
   ]
  },
  {
   "cell_type": "code",
   "execution_count": 19,
   "metadata": {},
   "outputs": [],
   "source": [
    "from sklearn.metrics import confusion_matrix\n",
    "(Y_train, Y_train), (X_test, Y_test) = get_images()\n",
    "Y_pred = model.predict_classes(x_test, batch_size=128)"
   ]
  },
  {
   "cell_type": "code",
   "execution_count": 20,
   "metadata": {},
   "outputs": [
    {
     "name": "stdout",
     "output_type": "stream",
     "text": [
      "cm is:[[827   2  17  23   4   0 121   0   6   0]\n",
      " [  3 980   0  12   2   0   2   0   1   0]\n",
      " [ 11   2 811  13  87   1  74   0   1   0]\n",
      " [ 15   4   7 917  29   1  22   0   5   0]\n",
      " [  0   0  90  34 815   0  58   0   3   0]\n",
      " [  0   0   0   1   0 976   0  15   0   8]\n",
      " [ 93   0  72  32  66   0 728   0   9   0]\n",
      " [  0   0   0   0   0  16   0 938   1  45]\n",
      " [  3   0   4   4   1   2   5   6 975   0]\n",
      " [  0   0   0   0   0   3   1  15   0 981]]\n",
      "Confusion matrix, without normalization\n",
      "[[827   2  17  23   4   0 121   0   6   0]\n",
      " [  3 980   0  12   2   0   2   0   1   0]\n",
      " [ 11   2 811  13  87   1  74   0   1   0]\n",
      " [ 15   4   7 917  29   1  22   0   5   0]\n",
      " [  0   0  90  34 815   0  58   0   3   0]\n",
      " [  0   0   0   1   0 976   0  15   0   8]\n",
      " [ 93   0  72  32  66   0 728   0   9   0]\n",
      " [  0   0   0   0   0  16   0 938   1  45]\n",
      " [  3   0   4   4   1   2   5   6 975   0]\n",
      " [  0   0   0   0   0   3   1  15   0 981]]\n"
     ]
    },
    {
     "data": {
      "image/png": "[encoded data removed]",
      "text/plain": [
       "<Figure size 432x288 with 2 Axes>"
      ]
     },
     "metadata": {
      "needs_background": "light"
     },
     "output_type": "display_data"
    }
   ],
   "source": [
    "import itertools\n",
    "cm = confusion_matrix(Y_test, Y_pred)\n",
    "print('cm is:' + str(cm))\n",
    "classes = [\"T-shirt/top\",\"Trousers\",\"Pullover\",\"Dress\",\"Coat\",\"Sandal\",\"Shirt\",\"Sneaker\",\"Bag\",\"Ankle boot\"]\n",
    "plot_confusion_matrix(cm, classes)"
   ]
  },
  {
   "cell_type": "markdown",
   "metadata": {},
   "source": [
    "## Question 4 (20 points)\n",
    "Take two photos, one of your clothes or shoes that belongs to one of 10 classes, the other that does not belong to any class.\n",
    "\n",
    "Use either Python or other software (Photoshop, Gimp, or any image editer) to convert the photos into grayscale, crop the region of interest and reshape into the size of 28x28.\n",
    "\n",
    "### 4.1 Load and visualise your own images (6 points)"
   ]
  },
  {
   "cell_type": "code",
   "execution_count": 31,
   "metadata": {},
   "outputs": [
    {
     "name": "stdout",
     "output_type": "stream",
     "text": [
      "(28, 28)\n"
     ]
    },
    {
     "data": {
      "image/png": "[encoded data removed]",
      "text/plain": [
       "<Figure size 432x288 with 1 Axes>"
      ]
     },
     "metadata": {
      "needs_background": "light"
     },
     "output_type": "display_data"
    }
   ],
   "source": [
    "import matplotlib.image as mpimg\n",
    "img1=mpimg.imread('T-shirt.jpg')\n",
    "print(img1.shape)\n",
    "imgplot = plt.imshow(img1)"
   ]
  },
  {
   "cell_type": "code",
   "execution_count": 22,
   "metadata": {},
   "outputs": [
    {
     "data": {
      "image/png": "[encoded data removed]",
      "text/plain": [
       "<Figure size 432x288 with 1 Axes>"
      ]
     },
     "metadata": {
      "needs_background": "light"
     },
     "output_type": "display_data"
    }
   ],
   "source": [
    "img2=mpimg.imread('flower.jpg')\n",
    "imgplot = plt.imshow(img2)"
   ]
  },
  {
   "cell_type": "markdown",
   "metadata": {},
   "source": [
    "### 4.2 Test your network on the two images and show the classification results (10 points)"
   ]
  },
  {
   "cell_type": "code",
   "execution_count": 33,
   "metadata": {},
   "outputs": [
    {
     "name": "stdout",
     "output_type": "stream",
     "text": [
      "predicted result of T-shirt is:T-shirt/top\n"
     ]
    }
   ],
   "source": [
    "img11 = np.reshape(img1,(1,784))\n",
    "image1_pred = model.predict_classes(img11, batch_size=128)\n",
    "print('predicted result of T-shirt is:' + classes[int(image1_pred)])"
   ]
  },
  {
   "cell_type": "code",
   "execution_count": 25,
   "metadata": {},
   "outputs": [
    {
     "name": "stdout",
     "output_type": "stream",
     "text": [
      "predicted result of flower is:Bag\n"
     ]
    }
   ],
   "source": [
    "img22 = np.reshape(img2,(1,784))\n",
    "image2_pred = model.predict_classes(img22, batch_size=128)\n",
    "print('predicted result of flower is:' + classes[int(image2_pred)])"
   ]
  },
  {
   "cell_type": "markdown",
   "metadata": {},
   "source": [
    "### 4.3 Discuss the classification results and provide one method to improve real life performance of the network (4 points)"
   ]
  },
  {
   "cell_type": "code",
   "execution_count": null,
   "metadata": {},
   "outputs": [],
   "source": [
    "# In our real life, there are lots of ways to improve the performance\n",
    "#\n",
    "# 1. Data:The first thing we can do to improve real life performance is to increase the size of training sets, \n",
    "# we can simplely get more data, or we can invent more data, which is called data augmentation; also, we \n",
    "# can rescale or transform our data, or maybe we can do the feature selection before training it, which makes it faster.\n",
    "# 2. Algorithm:We can improve our algorithms, a better algorithm may improve our network's performance. And we can also \n",
    "# simply tune our algotiyhms."
   ]
  },
  {
   "cell_type": "markdown",
   "metadata": {},
   "source": [
    "## 5. Survey\n",
    "How long did the coursework take you to solve? "
   ]
  },
  {
   "cell_type": "code",
   "execution_count": null,
   "metadata": {},
   "outputs": [],
   "source": [
    "# 4-5 hours."
   ]
  },
  {
   "cell_type": "markdown",
   "metadata": {},
   "source": []
  },
  {
   "cell_type": "markdown",
   "metadata": {},
   "source": []
  }
 ],
 "metadata": {
  "celltoolbar": "Slideshow",
  "kernelspec": {
   "display_name": "Python 3",
   "language": "python",
   "name": "python3"
  },
  "language_info": {
   "codemirror_mode": {
    "name": "ipython",
    "version": 3
   },
   "file_extension": ".py",
   "mimetype": "text/x-python",
   "name": "python",
   "nbconvert_exporter": "python",
   "pygments_lexer": "ipython3",
   "version": "3.6.6"
  }
 },
 "nbformat": 4,
 "nbformat_minor": 2
}
